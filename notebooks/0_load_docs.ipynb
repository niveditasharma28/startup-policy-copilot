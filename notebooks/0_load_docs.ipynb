{
 "cells": [
  {
   "cell_type": "code",
   "execution_count": 2,
   "id": "3604c915-8670-4549-9b9e-e013cf302afd",
   "metadata": {},
   "outputs": [
    {
     "name": "stdout",
     "output_type": "stream",
     "text": [
      "Processed: 198117.pdf → 198117.txt\n",
      "Processed: A Guide for Raising Equity Investment by MSMEs.pdf → A Guide for Raising Equity Investment by MSMEs.txt\n",
      "Processed: Action__Plan.pdf → Action__Plan.txt\n",
      "Processed: Declaration by a Startup for exemption under Section 56.pdf → Declaration by a Startup for exemption under Section 56.txt\n",
      "Processed: dpiit_startup_recognition.pdf → dpiit_startup_recognition.txt\n",
      "Processed: Guidelines for Startup India Seed Fund Scheme.pdf → Guidelines for Startup India Seed Fund Scheme.txt\n",
      "Processed: notification_13_2019.pdf → notification_13_2019.txt\n",
      "Processed: Republic of India_Startup Ecosystem.pdf → Republic of India_Startup Ecosystem.txt\n",
      "Processed: sisfs_portal_faqs.pdf → sisfs_portal_faqs.txt\n",
      "Processed: startup_action_plan_status.pdf → startup_action_plan_status.txt\n"
     ]
    }
   ],
   "source": [
    "from PyPDF2 import PdfReader\n",
    "import os\n",
    "\n",
    "pdf_folder = \"../data/raw/\"\n",
    "text_folder = \"../data/processed_text/\"\n",
    "\n",
    "os.makedirs(text_folder, exist_ok=True)\n",
    "\n",
    "for pdf_file in os.listdir(pdf_folder):\n",
    "    if pdf_file.endswith(\".pdf\"):\n",
    "        text = \"\"\n",
    "        try:\n",
    "            reader = PdfReader(os.path.join(pdf_folder, pdf_file))\n",
    "            for page in reader.pages:\n",
    "                text += page.extract_text() or \"\"\n",
    "            \n",
    "            txt_filename = pdf_file.replace(\".pdf\", \".txt\")\n",
    "            with open(os.path.join(text_folder, txt_filename), \"w\", encoding=\"utf-8\") as f:\n",
    "                f.write(text)\n",
    "            print(f\"Processed: {pdf_file} → {txt_filename}\")\n",
    "        except Exception as e:\n",
    "            print(f\"Error with {pdf_file}: {str(e)}\")\n",
    "            "
   ]
  },
  {
   "cell_type": "code",
   "execution_count": null,
   "id": "b09152a8-8933-469a-b82d-42cb601a4567",
   "metadata": {},
   "outputs": [],
   "source": []
  }
 ],
 "metadata": {
  "kernelspec": {
   "display_name": "Python 3 (ipykernel)",
   "language": "python",
   "name": "python3"
  },
  "language_info": {
   "codemirror_mode": {
    "name": "ipython",
    "version": 3
   },
   "file_extension": ".py",
   "mimetype": "text/x-python",
   "name": "python",
   "nbconvert_exporter": "python",
   "pygments_lexer": "ipython3",
   "version": "3.13.2"
  }
 },
 "nbformat": 4,
 "nbformat_minor": 5
}
